{
 "cells": [
  {
   "cell_type": "code",
   "execution_count": 7,
   "id": "54d5f47e-f9e3-4ce1-8dda-9b2fc5887e63",
   "metadata": {},
   "outputs": [],
   "source": [
    "import requests as req\n",
    "import pandas as pd\n",
    "import numpy as np\n",
    "import json"
   ]
  },
  {
   "cell_type": "code",
   "execution_count": 12,
   "id": "6d3db8dd-fc8e-4421-8540-9a71d8e284a1",
   "metadata": {},
   "outputs": [],
   "source": [
    "def fetch_data_json(link,params=[]):\n",
    "    fetch_link =req.get(link)\n",
    "    return pd.DataFrame.from_dict(fetch_link.json())\n"
   ]
  },
  {
   "cell_type": "code",
   "execution_count": 11,
   "id": "551fd7db-cfab-43cd-8eb8-5f8b66d32f5b",
   "metadata": {},
   "outputs": [],
   "source": [
    "link_15 = 'https://raw.githubusercontent.com/ndejong/philippines-data/master/data/2015%20Population%20Density_web_clean-columns.json'\n",
    "data_20 = pd.DataFrame(pd.read_csv('ph_cities_20.csv'))\n",
    "data_15 = fetch_data_json(link_15)"
   ]
  },
  {
   "cell_type": "code",
   "execution_count": 16,
   "id": "ba1361e0-20c0-46f8-b543-1237e7950486",
   "metadata": {},
   "outputs": [
    {
     "name": "stdout",
     "output_type": "stream",
     "text": [
      "1634\n",
      "1007\n"
     ]
    }
   ],
   "source": [
    "print(len(data_15['city_municipality']))\n",
    "print(len(data_20['city']))"
   ]
  },
  {
   "cell_type": "code",
   "execution_count": 49,
   "id": "2487338c-a90d-4934-8bc5-496f7539a296",
   "metadata": {},
   "outputs": [],
   "source": [
    "cities_data = [data_15['city_municipality'],data_20['city']]\n",
    "cities_new = {'citynew_15':[],'citynew_20':[],'cityset_15':None,'cityset_20':None}\n",
    "for i,data in enumerate(cities_data):\n",
    "    for city in data:\n",
    "        new_city = city.lower().replace('city','').replace('of','').strip()\n",
    "        cities_new[list(cities_new.keys())[i]].append(new_city)\n",
    "    cities_new[list(cities_new.keys())[i+2]] = set(cities_new[list(cities_new.keys())[i]])\n",
    "cities_common=cities_new['cityset_20'].intersection(cities_new['cityset_15'])"
   ]
  },
  {
   "cell_type": "code",
   "execution_count": 59,
   "id": "9fff1b90-975f-4f15-bf1d-f69d4e0256ee",
   "metadata": {},
   "outputs": [],
   "source": [
    "data_15_01 = pd.concat((data_15,pd.Series(cities_new['citynew_15'],name='newcity_15')),axis=1)\n",
    "data_20_01 = pd.concat((data_20,pd.Series(cities_new['citynew_20'],name='newcity_20')),axis=1)"
   ]
  },
  {
   "cell_type": "code",
   "execution_count": 110,
   "id": "f3c486b1-9317-4c2b-870b-e156adc84838",
   "metadata": {},
   "outputs": [],
   "source": [
    "data_15_02 = data_15_01[data_15_01['newcity_15'].isin(list(cities_common))].reset_index()\n",
    "data_20_02 = data_20_01[data_20_01['newcity_20'].isin(list(cities_common))].reset_index()"
   ]
  },
  {
   "cell_type": "code",
   "execution_count": 111,
   "id": "26523b6b-e050-4c87-a843-e5f9d04a09a2",
   "metadata": {},
   "outputs": [],
   "source": [
    "new_data = {'lat':[],'lng':[],'population':[],'population_proper':[]}\n",
    "for i,city in enumerate(data_15_02['newcity_15']):\n",
    "    data = data_20_02[data_20_02['newcity_20']==city].iloc[0,0:]\n",
    "    for j,key in enumerate(list(new_data.keys())):\n",
    "        if j >= 1:\n",
    "            new_data[key].append(float(data[key]))\n",
    "        else:\n",
    "            new_data[key].append(float(data[key].mean()))"
   ]
  },
  {
   "cell_type": "code",
   "execution_count": 116,
   "id": "1c27eae7-15b3-4f32-b03f-4e32cc1a6edd",
   "metadata": {},
   "outputs": [
    {
     "data": {
      "text/plain": [
       "Index(['index', 'region', 'region_name', 'province', 'city_municipality',\n",
       "       'is_capital', 'population_2015', 'land_area_sqkm', 'population_density',\n",
       "       'newcity_15', 'lat', 'lng', 'population', 'population_proper'],\n",
       "      dtype='object')"
      ]
     },
     "execution_count": 116,
     "metadata": {},
     "output_type": "execute_result"
    }
   ],
   "source": [
    "comb_data = pd.concat((data_15_02,pd.DataFrame.from_dict(new_data)),axis=1)\n",
    "comb_data.columns"
   ]
  },
  {
   "cell_type": "code",
   "execution_count": 118,
   "id": "114c5d6b-2661-4050-8aef-ddb41245c9be",
   "metadata": {},
   "outputs": [],
   "source": [
    "comb_data.columns = ['index','region','region_name','province', 'city_municipality',\n",
    "                     'is_capital', 'population_2015', 'land_area_sqkm', 'population_density_2015',\n",
    "                    'cityid_name','latitude','longitude','population_recent','population_proper_recent']"
   ]
  },
  {
   "cell_type": "code",
   "execution_count": 120,
   "id": "09ce4d72-fd6e-4e13-afb3-df44a1c9cfe4",
   "metadata": {},
   "outputs": [],
   "source": [
    "comb_data.to_csv('ph_cities_1520.csv')"
   ]
  }
 ],
 "metadata": {
  "kernelspec": {
   "display_name": "Python 3 (ipykernel)",
   "language": "python",
   "name": "python3"
  },
  "language_info": {
   "codemirror_mode": {
    "name": "ipython",
    "version": 3
   },
   "file_extension": ".py",
   "mimetype": "text/x-python",
   "name": "python",
   "nbconvert_exporter": "python",
   "pygments_lexer": "ipython3",
   "version": "3.9.10"
  }
 },
 "nbformat": 4,
 "nbformat_minor": 5
}
